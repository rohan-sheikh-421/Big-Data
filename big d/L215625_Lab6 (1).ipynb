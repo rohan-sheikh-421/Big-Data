{
 "cells": [
  {
   "cell_type": "code",
   "execution_count": 3,
   "id": "564c56f0",
   "metadata": {},
   "outputs": [
    {
     "name": "stdout",
     "output_type": "stream",
     "text": [
      "Collecting mrjob\n",
      "  Downloading mrjob-0.7.4-py2.py3-none-any.whl (439 kB)\n",
      "Requirement already satisfied: PyYAML>=3.10 in c:\\programdata\\anaconda3\\lib\\site-packages (from mrjob) (5.4.1)\n",
      "Installing collected packages: mrjob\n",
      "Successfully installed mrjob-0.7.4\n"
     ]
    }
   ],
   "source": [
    "!pip install mrjob"
   ]
  },
  {
   "cell_type": "code",
   "execution_count": 54,
   "id": "024e0f96",
   "metadata": {},
   "outputs": [
    {
     "name": "stdout",
     "output_type": "stream",
     "text": [
      "Overwriting q1.py\n"
     ]
    }
   ],
   "source": [
    "%%writefile q1.py\n",
    "from mrjob.job import MRJob\n",
    "\n",
    "class access_gcr(MRJob):\n",
    "    def mapper(self, _, line):\n",
    "        input_line = line.split(' ')\n",
    "        student = input_line[0]\n",
    "        class_name = input_line[1]\n",
    "        access_date = input_line[2]\n",
    "        if \"2020\" in access_date: \n",
    "            yield (student, class_name,access_date), 1\n",
    "\n",
    "    def combiner(self, key, counts):\n",
    "          yield key, sum(counts)  \n",
    "\n",
    "    def reducer(self, key, counts):\n",
    "        total_access_count = sum(counts)\n",
    "        yield key, total_access_count  \n",
    "\n",
    "if __name__ == '__main__':\n",
    "    access_gcr.run()"
   ]
  },
  {
   "cell_type": "code",
   "execution_count": 55,
   "id": "d4e95120",
   "metadata": {},
   "outputs": [
    {
     "name": "stdout",
     "output_type": "stream",
     "text": [
      "[\"L20-1111\",\"Course:DataMining\",\"Sem:Spring2020\"]\t2\n",
      "[\"L20-4305\",\"Course:BigData\",\"Sem:Spring2020\"]\t2\n",
      "[\"L20-4305\",\"Course:DataMining\",\"Sem:Spring2020\"]\t1\n"
     ]
    },
    {
     "name": "stderr",
     "output_type": "stream",
     "text": [
      "No configs found; falling back on auto-configuration\n",
      "No configs specified for inline runner\n",
      "Creating temp directory C:\\Users\\fast\\AppData\\Local\\Temp\\q1.fast.20240309.075247.580749\n",
      "Running step 1 of 1...\n",
      "job output is in C:\\Users\\fast\\AppData\\Local\\Temp\\q1.fast.20240309.075247.580749\\output\n",
      "Streaming final output from C:\\Users\\fast\\AppData\\Local\\Temp\\q1.fast.20240309.075247.580749\\output...\n",
      "Removing temp directory C:\\Users\\fast\\AppData\\Local\\Temp\\q1.fast.20240309.075247.580749...\n"
     ]
    }
   ],
   "source": [
    "!python q1.py input.txt"
   ]
  },
  {
   "cell_type": "code",
   "execution_count": 56,
   "id": "a93653f4",
   "metadata": {},
   "outputs": [
    {
     "name": "stdout",
     "output_type": "stream",
     "text": [
      "Writing q2.py\n"
     ]
    }
   ],
   "source": [
    "%%writefile q2.py\n",
    "\n",
    "from mrjob.job import MRJob\n",
    "\n",
    "class CourseAccess(MRJob):\n",
    "    \n",
    "    def mapper(self, _, line):\n",
    "        data = line.split(' ')\n",
    "        course = data[1]\n",
    "        student = data[0]\n",
    "        yield course, student\n",
    "\n",
    "    def reducer(self, course, students):\n",
    "        distinct_students = set(students)\n",
    "        yield course, len(distinct_students)\n",
    "\n",
    "if __name__ == '__main__':\n",
    "    CourseAccess.run()"
   ]
  },
  {
   "cell_type": "code",
   "execution_count": 57,
   "id": "f0efafe9",
   "metadata": {},
   "outputs": [
    {
     "name": "stdout",
     "output_type": "stream",
     "text": [
      "\"Course:BigData\"\t1\n",
      "\"Course:DataMining\"\t2\n"
     ]
    },
    {
     "name": "stderr",
     "output_type": "stream",
     "text": [
      "No configs found; falling back on auto-configuration\n",
      "No configs specified for inline runner\n",
      "Creating temp directory C:\\Users\\fast\\AppData\\Local\\Temp\\q2.fast.20240309.075440.143895\n",
      "Running step 1 of 1...\n",
      "job output is in C:\\Users\\fast\\AppData\\Local\\Temp\\q2.fast.20240309.075440.143895\\output\n",
      "Streaming final output from C:\\Users\\fast\\AppData\\Local\\Temp\\q2.fast.20240309.075440.143895\\output...\n",
      "Removing temp directory C:\\Users\\fast\\AppData\\Local\\Temp\\q2.fast.20240309.075440.143895...\n"
     ]
    }
   ],
   "source": [
    "!python q2.py input.txt"
   ]
  },
  {
   "cell_type": "code",
   "execution_count": 168,
   "id": "79214291",
   "metadata": {},
   "outputs": [
    {
     "name": "stdout",
     "output_type": "stream",
     "text": [
      "Overwriting q3.py\n"
     ]
    }
   ],
   "source": [
    "%%writefile q3.py\n",
    "\n",
    "from mrjob.job import MRJob\n",
    "from datetime import datetime\n",
    "class StudentCourseTime(MRJob):\n",
    "    \n",
    "    def mapper(self, _, line):\n",
    "        data = line.split(' ')\n",
    "        student = data[0]\n",
    "        course = data[1]\n",
    "        login_time = data[3].split(\"Login:\")\n",
    "        logout_time =data[4].split(\"Logout:\")\n",
    "        login_time=login_time[1].split(\"-\")\n",
    "        logout_time=logout_time[1].split(\"-\")\n",
    "         \n",
    "        login_time1=login_time[-1]\n",
    "        logout_time1=logout_time[-1]\n",
    "        \n",
    "        login_date=login_time[:-1]\n",
    "        logout_date=logout_time[:-1]\n",
    "        login_date='-'.join(login_date)\n",
    "        date_obj1=datetime.strptime(login_date, \"%d-%m-%y\")\n",
    "        login_date=date_obj1.strftime(\"%Y-%m-%d\")\n",
    "        logout_date='-'.join(logout_date)\n",
    "        date_obj2=datetime.strptime(logout_date, \"%d-%m-%y\")\n",
    "        logout_date=date_obj2.strftime(\"%Y-%m-%d\")\n",
    "        \n",
    "        start_time=login_time1 +login_date\n",
    "        \n",
    "        \n",
    "        yield (student, course),(start_time)\n",
    "        \n",
    "        \n",
    "        \n",
    "        \n",
    "    \"\"\"def reducer(self, key, values):\n",
    "        total_time_spent = 0\n",
    "        for login_time, logout_time in values:\n",
    "            total_time_spent += logout_time - login_time\n",
    "        \n",
    "        yield key, total_time_spent \"\"\"\n",
    "    \n",
    "    def calulate_time(self,t11,t12,t21,t22):\n",
    "        pass\n",
    "        \n",
    "\n",
    "if __name__ == '__main__':\n",
    "    StudentCourseTime.run()"
   ]
  },
  {
   "cell_type": "code",
   "execution_count": 167,
   "id": "3e6ea1d7",
   "metadata": {},
   "outputs": [
    {
     "name": "stdout",
     "output_type": "stream",
     "text": [
      "[\"L20-4305\",\"Course:BigData\"]\t\"12:452020-03-12\""
     ]
    },
    {
     "name": "stderr",
     "output_type": "stream",
     "text": [
      "No configs found; falling back on auto-configuration\n",
      "No configs specified for inline runner\n",
      "Creating temp directory C:\\Users\\fast\\AppData\\Local\\Temp\\q3.fast.20240309.085128.631957\n",
      "Running step 1 of 1..."
     ]
    },
    {
     "name": "stdout",
     "output_type": "stream",
     "text": [
      "\n",
      "[\"L20-1111\",\"Course:DataMining\"]\t\"11:002020-03-12\"\n",
      "[\"L20-4305\",\"Course:DataMining\"]\t\"12:002020-03-12\"\n",
      "[\"L20-1111\",\"Course:DataMining\"]\t\"2:002020-03-12\"\n",
      "[\"L20-4305\",\"Course:BigData\"]\t\"12:002020-03-12\"\n"
     ]
    },
    {
     "name": "stderr",
     "output_type": "stream",
     "text": [
      "\n",
      "job output is in C:\\Users\\fast\\AppData\\Local\\Temp\\q3.fast.20240309.085128.631957\\output\n",
      "Streaming final output from C:\\Users\\fast\\AppData\\Local\\Temp\\q3.fast.20240309.085128.631957\\output...\n",
      "Removing temp directory C:\\Users\\fast\\AppData\\Local\\Temp\\q3.fast.20240309.085128.631957...\n"
     ]
    }
   ],
   "source": [
    "!python q3.py input.txt"
   ]
  },
  {
   "cell_type": "code",
   "execution_count": null,
   "id": "3d106804",
   "metadata": {},
   "outputs": [],
   "source": []
  }
 ],
 "metadata": {
  "kernelspec": {
   "display_name": "Python 3",
   "language": "python",
   "name": "python3"
  },
  "language_info": {
   "codemirror_mode": {
    "name": "ipython",
    "version": 3
   },
   "file_extension": ".py",
   "mimetype": "text/x-python",
   "name": "python",
   "nbconvert_exporter": "python",
   "pygments_lexer": "ipython3",
   "version": "3.8.8"
  }
 },
 "nbformat": 4,
 "nbformat_minor": 5
}
