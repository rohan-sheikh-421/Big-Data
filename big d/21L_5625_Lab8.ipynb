{
  "cells": [
    {
      "cell_type": "code",
      "execution_count": 2,
      "metadata": {
        "colab": {
          "base_uri": "https://localhost:8080/"
        },
        "id": "PDtzujrYjLD4",
        "outputId": "4d4fa777-8199-43d4-ce87-d4d63b342fa2"
      },
      "outputs": [
        {
          "name": "stdout",
          "output_type": "stream",
          "text": [
            "Collecting pyspark\n",
            "  Downloading pyspark-3.5.1.tar.gz (317.0 MB)\n",
            "\u001b[2K     \u001b[90m━━━━━━━━━━━━━━━━━━━━━━━━━━━━━━━━━━━━━━━━\u001b[0m \u001b[32m317.0/317.0 MB\u001b[0m \u001b[31m4.1 MB/s\u001b[0m eta \u001b[36m0:00:00\u001b[0m\n",
            "\u001b[?25h  Preparing metadata (setup.py) ... \u001b[?25l\u001b[?25hdone\n",
            "Requirement already satisfied: py4j==0.10.9.7 in /usr/local/lib/python3.10/dist-packages (from pyspark) (0.10.9.7)\n",
            "Building wheels for collected packages: pyspark\n",
            "  Building wheel for pyspark (setup.py) ... \u001b[?25l\u001b[?25hdone\n",
            "  Created wheel for pyspark: filename=pyspark-3.5.1-py2.py3-none-any.whl size=317488491 sha256=92854458c428972e2a87d463d057c0759d8491a0dc10911e83a4f567e1141498\n",
            "  Stored in directory: /root/.cache/pip/wheels/80/1d/60/2c256ed38dddce2fdd93be545214a63e02fbd8d74fb0b7f3a6\n",
            "Successfully built pyspark\n",
            "Installing collected packages: pyspark\n",
            "Successfully installed pyspark-3.5.1\n"
          ]
        }
      ],
      "source": [
        "!pip install pyspark"
      ]
    },
    {
      "cell_type": "markdown",
      "metadata": {},
      "source": [
        "Reading file"
      ]
    },
    {
      "cell_type": "code",
      "execution_count": 10,
      "metadata": {
        "colab": {
          "base_uri": "https://localhost:8080/"
        },
        "id": "i-6C0jdih1ix",
        "outputId": "1c3ed8be-770f-41c7-e2a9-2e6242b000b2"
      },
      "outputs": [
        {
          "name": "stdout",
          "output_type": "stream",
          "text": [
            "+----+------+--------------------+-------+--------------------+-----------------+--------------------+----------+------+-------------------+\n",
            "|Year|Length|               Title|  Genre|               Actor|          Actress|            Director|Popularity|Awards|              Image|\n",
            "+----+------+--------------------+-------+--------------------+-----------------+--------------------+----------+------+-------------------+\n",
            "|1990|   111|Tie Me Up! Tie Me...| Comedy|     BanderasAntonio|    AbrilVictoria|      AlmodóvarPedro|        68|    No|   NicholasCage.png|\n",
            "|1991|   113|          High Heels| Comedy|          BoséMiguel|    AbrilVictoria|      AlmodóvarPedro|        68|    No|   NicholasCage.png|\n",
            "|1983|   104|        Dead ZoneThe| Horror|   WalkenChristopher|      AdamsBrooke|     CronenbergDavid|        79|    No|   NicholasCage.png|\n",
            "|1979|   122|                Cuba| Action|         ConnerySean|      AdamsBrooke|       LesterRichard|         6|    No|    seanConnery.png|\n",
            "|1978|    94|      Days of Heaven|  Drama|         GereRichard|      AdamsBrooke|      MalickTerrence|        14|    No|   NicholasCage.png|\n",
            "|1983|   140|           Octopussy| Action|          MooreRoger|        AdamsMaud|            GlenJohn|        68|    No|   NicholasCage.png|\n",
            "|1984|   101|        Target Eagle| Action|        ConnorsChuck|        AdamsMaud|LomaJosé Antonio ...|        14|    No|   NicholasCage.png|\n",
            "|1989|    99|American Angels: ...|  Drama|     BergenRobert D.|       AdamsTrudy|    SebastianBeverly|        28|    No|   NicholasCage.png|\n",
            "|1985|   104|              Subway|  Drama|  LambertChristopher|   AdjaniIsabelle|           BessonLuc|         6|    No|   NicholasCage.png|\n",
            "|1990|   149|     Camille Claudel|  Drama|     DepardieuGérard|   AdjaniIsabelle|        NuyttenBruno|        32|    No|   NicholasCage.png|\n",
            "|1982|   188| Fanny and Alexander|  Drama|       AhlstedtBörje|AdolphsonKristina|       BergmanIngmar|        81|   Yes|        Bergman.png|\n",
            "|1982|   117|Tragedy of a Ridi...|  Drama|         TognazziUgo|       AimeeAnouk|  BertolucciBernardo|        17|    No|   NicholasCage.png|\n",
            "|1966|   103|     A Man & a Woman|  Drama|TrintignantJean-L...|       AimeeAnouk|       LelouchClaude|        46|   Yes|   NicholasCage.png|\n",
            "|1986|   112|A Man & a Woman: ...|  Drama|TrintignantJean-L...|       AimeeAnouk|       LelouchClaude|        49|    No|   NicholasCage.png|\n",
            "|1966|   103|Un Hombre y una M...|  Drama|TrintignantJean-L...|       AimeeAnouk|       LelouchClaude|         6|   Yes|   NicholasCage.png|\n",
            "|1985|   112|   Official StoryThe|  Drama|       AlterioHector|    AleandroNorma|          PuenzoLuiz|        39|   Yes|   NicholasCage.png|\n",
            "|1976|   150|Lindbergh Kidnapp...|  Drama|      HopkinsAnthony|  AlexanderDenise|           KulikBuzz|        51|    No| AnthonyHopkins.png|\n",
            "|1929|    84|           Blackmail|Mystery|         LongdenJohn|       AlgoodSara|     HitchcockAlfred|         2|    No|alfredHitchcock.png|\n",
            "|1963|   109|      Donovan's Reef| Comedy|           WayneJohn|   AllenElizabeth|            FordJohn|        62|    No|      johnWayne.png|\n",
            "|1988|   110|Tucker: The Man &...|  Drama|         BridgesJeff|        AllenJoan| CoppolaFrancis Ford|        68|    No|   NicholasCage.png|\n",
            "+----+------+--------------------+-------+--------------------+-----------------+--------------------+----------+------+-------------------+\n",
            "only showing top 20 rows\n",
            "\n"
          ]
        }
      ],
      "source": [
        "from pyspark.sql import SparkSession\n",
        "from pyspark.sql.functions import col, explode, split, avg, max, min, count\n",
        "\n",
        "spark = SparkSession.builder \\\n",
        "    .appName(\"MovieAnalysis\") \\\n",
        "    .getOrCreate()\n",
        "\n",
        "movies_df = spark.read.csv(\"Movies.csv.csv\", header=True, inferSchema=True)\n",
        "\n",
        "movies_df.show()"
      ]
    },
    {
      "cell_type": "markdown",
      "metadata": {},
      "source": [
        "Question 1"
      ]
    },
    {
      "cell_type": "code",
      "execution_count": 12,
      "metadata": {
        "colab": {
          "base_uri": "https://localhost:8080/"
        },
        "id": "Gha-m-xZlaCw",
        "outputId": "40ed5582-693c-4abe-89d1-b21767dd6597"
      },
      "outputs": [
        {
          "name": "stdout",
          "output_type": "stream",
          "text": [
            "+-----+----+--------+\n",
            "|Title|Year|Director|\n",
            "+-----+----+--------+\n",
            "+-----+----+--------+\n",
            "\n"
          ]
        }
      ],
      "source": [
        "movie_awards = movies_df.filter((col(\"Genre\") == \"Action\") & (col(\"Awards\") == \"Yes\")) \\\n",
        "    .select(\"Title\", \"Year\", \"Director\")\n",
        "movie_awards.show()"
      ]
    },
    {
      "cell_type": "markdown",
      "metadata": {},
      "source": [
        "Question 2"
      ]
    },
    {
      "cell_type": "code",
      "execution_count": 13,
      "metadata": {
        "colab": {
          "base_uri": "https://localhost:8080/"
        },
        "id": "Yp_ZhwD_lynQ",
        "outputId": "7832afb6-89ea-44a0-cd92-a4c23644fae9"
      },
      "outputs": [
        {
          "name": "stdout",
          "output_type": "stream",
          "text": [
            "+---------------------+----------------------------+-------------------+\n",
            "|Actor                |Title                       |Director           |\n",
            "+---------------------+----------------------------+-------------------+\n",
            "|AhlstedtBörje        |Fanny and Alexander         |BergmanIngmar      |\n",
            "|TrintignantJean-Louis|A Man & a Woman             |LelouchClaude      |\n",
            "|TrintignantJean-Louis|Un Hombre y una Mujer       |LelouchClaude      |\n",
            "|AlterioHector        |Official StoryThe           |PuenzoLuiz         |\n",
            "|SjöströmVictor       |Wild Strawberries           |BergmanIngmar      |\n",
            "|BjörnstrandGunnar    |Through a Glass Darkly      |BergmanIngmar      |\n",
            "|JosephsonErland      |Cries & Whispers            |BergmanIngmar      |\n",
            "|PlummerChristopher   |Sound of MusicThe           |WiseRobert         |\n",
            "|LaFontJean-Philippe  |Babette's Feast             |AxelGabriel        |\n",
            "|BalsamMartin         |Murder on the Orient Express|LumetSidney        |\n",
            "|HopkinsAnthony       |Elephant ManThe             |LynchDavid         |\n",
            "|WallaceDee           |E. T. The Extra-Terrestrial |SpielbergSteven    |\n",
            "|CaanJames            |Misery                      |ReinerRob          |\n",
            "|KingsleyBen          |Gandhi                      |AttenboroughRichard|\n",
            "|BjörkHalvar          |Autumn Sonata               |BergmanIngmar      |\n",
            "|BoyerCharles         |Gaslight                    |CukorGeorge        |\n",
            "|BeattyNed            |A Woman Called Golda        |GibsonAlan         |\n",
            "|TamiroffAkim         |Anastasia                   |LitvakAnatole      |\n",
            "|MatthauWalter        |Cactus Flower               |SaksGene           |\n",
            "|AbrahamF. Murray     |Amadeus                     |FormanMilos        |\n",
            "+---------------------+----------------------------+-------------------+\n",
            "only showing top 20 rows\n",
            "\n"
          ]
        }
      ],
      "source": [
        "movies_df = movies_df.withColumn(\"Actor\", split(col(\"Actor\"), \", \"))\n",
        "movies_df = movies_df.withColumn(\"Actress\", split(col(\"Actress\"), \", \"))\n",
        "movies_df = movies_df.withColumn(\"Actor\", explode(col(\"Actor\")))\n",
        "movies_df = movies_df.withColumn(\"Actress\", explode(col(\"Actress\")))\n",
        "award_winning_movies = movies_df.filter(col(\"Awards\") == \"Yes\")\n",
        "actor_movies = award_winning_movies.select(\"Actor\", \"Title\", \"Director\")\n",
        "actor_movies.show(truncate=False)"
      ]
    },
    {
      "cell_type": "markdown",
      "metadata": {},
      "source": [
        "Question 3"
      ]
    },
    {
      "cell_type": "code",
      "execution_count": 14,
      "metadata": {
        "colab": {
          "base_uri": "https://localhost:8080/"
        },
        "id": "JcF7oD6ymGhQ",
        "outputId": "71cb6a6e-babb-4a6c-d784-7b05b2c6e33f"
      },
      "outputs": [
        {
          "name": "stdout",
          "output_type": "stream",
          "text": [
            "+---------------------+----------+\n",
            "|Title                |Popularity|\n",
            "+---------------------+----------+\n",
            "|Five Corners         |88        |\n",
            "|Ballad of NarayamaThe|88        |\n",
            "|Let It Ride          |88        |\n",
            "|Final Notice         |88        |\n",
            "|New Year's Day       |88        |\n",
            "|Guilty by Suspicion  |88        |\n",
            "|Fellini Satyricon    |88        |\n",
            "|Raw Nerve            |88        |\n",
            "|Time MachineThe      |88        |\n",
            "|Long Voyage HomeThe  |88        |\n",
            "+---------------------+----------+\n",
            "\n"
          ]
        }
      ],
      "source": [
        "no_awards = movies_df.filter(col(\"Awards\") == \"No\") \\\n",
        "    .orderBy(col(\"Popularity\").desc()) \\\n",
        "    .select(\"Title\", \"Popularity\") \\\n",
        "    .limit(10)\n",
        "no_awards.show(truncate=False)"
      ]
    },
    {
      "cell_type": "markdown",
      "metadata": {},
      "source": [
        "Question 4"
      ]
    },
    {
      "cell_type": "code",
      "execution_count": 15,
      "metadata": {
        "colab": {
          "base_uri": "https://localhost:8080/"
        },
        "id": "X3l42rCHmMbG",
        "outputId": "1fa92260-ec4e-467e-d2ab-eafd9f75b1f5"
      },
      "outputs": [
        {
          "name": "stdout",
          "output_type": "stream",
          "text": [
            "+------------------+----------+\n",
            "|Title             |Popularity|\n",
            "+------------------+----------+\n",
            "|White Lightning   |NULL      |\n",
            "|Drop KickThe      |NULL      |\n",
            "|Desert Rider      |NULL      |\n",
            "|Shalako           |0         |\n",
            "|Airport           |0         |\n",
            "|Anna Christie     |0         |\n",
            "|Shout at the Devil|0         |\n",
            "|Holocaust         |1         |\n",
            "|Indiscreet        |1         |\n",
            "|Stavisky          |1         |\n",
            "+------------------+----------+\n",
            "\n"
          ]
        }
      ],
      "source": [
        "rdd4= movies_df.filter(col(\"Year\") < 1980) \\\n",
        "    .orderBy(col(\"Popularity\")) \\\n",
        "    .select(\"Title\", \"Popularity\") \\\n",
        "    .limit(10)\n",
        "rdd4.show(truncate=False)"
      ]
    },
    {
      "cell_type": "markdown",
      "metadata": {},
      "source": [
        "Question 5"
      ]
    },
    {
      "cell_type": "code",
      "execution_count": 16,
      "metadata": {
        "colab": {
          "base_uri": "https://localhost:8080/"
        },
        "id": "pPLzuD4XmRdU",
        "outputId": "7d13a07b-1ff3-45d6-b626-f80f6aa6267e"
      },
      "outputs": [
        {
          "name": "stdout",
          "output_type": "stream",
          "text": [
            "+---------------+------------------+\n",
            "|Genre          |AverageLength     |\n",
            "+---------------+------------------+\n",
            "|Crime          |66.0              |\n",
            "|Romance        |127.0             |\n",
            "|Adventure      |119.0             |\n",
            "|NULL           |120.5             |\n",
            "|Drama          |112.78490566037736|\n",
            "|War            |112.70588235294117|\n",
            "|Fantasy        |102.0             |\n",
            "|Mystery        |104.9390243902439 |\n",
            "|Music          |115.8076923076923 |\n",
            "|Science Fiction|106.15625         |\n",
            "|Horror         |96.33333333333333 |\n",
            "|Short          |40.0              |\n",
            "|Western        |108.78846153846153|\n",
            "|Comedy         |98.85049833887044 |\n",
            "|Action         |104.41258741258741|\n",
            "|Westerns       |110.33333333333333|\n",
            "+---------------+------------------+\n",
            "\n"
          ]
        }
      ],
      "source": [
        "average_length = movies_df.groupBy(\"Genre\").agg(avg(\"Length\").alias(\"AverageLength\"))\n",
        "average_length.show(truncate=False)"
      ]
    },
    {
      "cell_type": "markdown",
      "metadata": {},
      "source": [
        "Question 6"
      ]
    },
    {
      "cell_type": "code",
      "execution_count": 32,
      "metadata": {
        "colab": {
          "base_uri": "https://localhost:8080/"
        },
        "id": "ylgUJ6pOmZjb",
        "outputId": "7403dabb-8143-42ae-f093-223824fa1a13"
      },
      "outputs": [
        {
          "name": "stdout",
          "output_type": "stream",
          "text": [
            "+------------+----------------+-----+\n",
            "|       actor|         actress|count|\n",
            "+------------+----------------+-----+\n",
            "|TracySpencer|HepburnKatharine|    6|\n",
            "|  AllenWoody|     KeatonDiane|    5|\n",
            "+------------+----------------+-----+\n",
            "\n"
          ]
        }
      ],
      "source": [
        "rdd6 = movies_df.filter(col(\"genre\") == \"Comedy\").groupBy(\"actor\", \"actress\").count().filter(col(\"count\") > 3)\n",
        "rdd6.show()"
      ]
    },
    {
      "cell_type": "markdown",
      "metadata": {},
      "source": [
        "Question 7"
      ]
    },
    {
      "cell_type": "code",
      "execution_count": 18,
      "metadata": {
        "colab": {
          "base_uri": "https://localhost:8080/"
        },
        "id": "YkMrJyMTmf1B",
        "outputId": "3a3cb746-287e-49e1-dcfa-9e076dfa1a8f"
      },
      "outputs": [
        {
          "name": "stdout",
          "output_type": "stream",
          "text": [
            "+---------------+\n",
            "|Actor          |\n",
            "+---------------+\n",
            "|WillisBruce    |\n",
            "|IronsJeremy    |\n",
            "|EastwoodClint  |\n",
            "|ConnerySean    |\n",
            "|TracySpencer   |\n",
            "|AielloDanny    |\n",
            "|MooreDudley    |\n",
            "|QuinnAidan     |\n",
            "|AdolphsonEdvin |\n",
            "|FinchPeter     |\n",
            "|BrandoMarlon   |\n",
            "|NewmanPaul     |\n",
            "|BeattyWarren   |\n",
            "|CaanJames      |\n",
            "|HowellC. Thomas|\n",
            "|RogersWill     |\n",
            "|CageNicolas    |\n",
            "|RedfordRobert  |\n",
            "|CaineMichael   |\n",
            "|O'ToolePeter   |\n",
            "+---------------+\n",
            "only showing top 20 rows\n",
            "\n"
          ]
        }
      ],
      "source": [
        "rdd7 = movies_df.filter(col(\"Genre\") == \"Comedy\") \\\n",
        "    .select(\"Actor\")\n",
        "drama_actors = movies_df.filter(col(\"Genre\") == \"Drama\") \\\n",
        "    .select(\"Actor\")\n",
        "common_actors = rdd7.intersect(drama_actors)\n",
        "common_actors.show(truncate=False)"
      ]
    },
    {
      "cell_type": "markdown",
      "metadata": {},
      "source": [
        "Question 8"
      ]
    },
    {
      "cell_type": "code",
      "execution_count": 19,
      "metadata": {
        "colab": {
          "base_uri": "https://localhost:8080/"
        },
        "id": "CwXmfn3vmiXd",
        "outputId": "8fcdb6d1-0347-4979-e3cd-33f41f945ff4"
      },
      "outputs": [
        {
          "name": "stdout",
          "output_type": "stream",
          "text": [
            "+---------------+\n",
            "|Actor          |\n",
            "+---------------+\n",
            "|BanderasAntonio|\n",
            "|BoséMiguel     |\n",
            "|WayneJohn      |\n",
            "|MurrayBill     |\n",
            "|NivenDavid     |\n",
            "|MooreDudley    |\n",
            "|ReynoldsBurt   |\n",
            "|CleeseJohn     |\n",
            "|DepardieuGérard|\n",
            "|AldaAlan       |\n",
            "|RobertsEric    |\n",
            "|DunneGriffin   |\n",
            "|QuinnAidan     |\n",
            "|MatthauWalter  |\n",
            "|GelinDaniel    |\n",
            "|BretonniereJean|\n",
            "|VidalHenri     |\n",
            "|MumyBilly      |\n",
            "|PerkinsAnthony |\n",
            "|JourdanLouis   |\n",
            "+---------------+\n",
            "only showing top 20 rows\n",
            "\n"
          ]
        }
      ],
      "source": [
        "intersection = comedy_actors.union(drama_actors)\n",
        "intersection.show(truncate=False)"
      ]
    },
    {
      "cell_type": "markdown",
      "metadata": {},
      "source": [
        "Question 9"
      ]
    },
    {
      "cell_type": "code",
      "execution_count": 20,
      "metadata": {
        "colab": {
          "base_uri": "https://localhost:8080/"
        },
        "id": "1gFdUOCjmmC1",
        "outputId": "da6da673-9bfc-4b4d-921a-62e492ca2cdb"
      },
      "outputs": [
        {
          "name": "stdout",
          "output_type": "stream",
          "text": [
            "+---------------+\n",
            "|Actor          |\n",
            "+---------------+\n",
            "|CottenJoseph   |\n",
            "|BrownTom       |\n",
            "|DillonMatt     |\n",
            "|LancasterBurt  |\n",
            "|WillisBruce    |\n",
            "|RomeroCesar    |\n",
            "|UrichRobert    |\n",
            "|DavisGuy       |\n",
            "|BridgesBeau    |\n",
            "|KattWilliam    |\n",
            "|EnglundRobert  |\n",
            "|PriceMarc      |\n",
            "|CapolicchioLino|\n",
            "|FondaPeter     |\n",
            "|TownsendRobert |\n",
            "|ChesneyArthur  |\n",
            "|BoyceAlan      |\n",
            "|WidgrenOlof    |\n",
            "|IronsJeremy    |\n",
            "|PayneJohn      |\n",
            "+---------------+\n",
            "only showing top 20 rows\n",
            "\n"
          ]
        }
      ],
      "source": [
        "rdd9 = movies_df.filter(col(\"Genre\") != \"Comedy\") \\\n",
        "    .select(\"Actor\") \\\n",
        "    .distinct()\n",
        "rdd9.show(truncate=False)"
      ]
    },
    {
      "cell_type": "markdown",
      "metadata": {},
      "source": [
        "Question 10"
      ]
    },
    {
      "cell_type": "code",
      "execution_count": 21,
      "metadata": {
        "colab": {
          "base_uri": "https://localhost:8080/"
        },
        "id": "z8Wg8yT3mqgQ",
        "outputId": "27f98c9d-8ef4-4e34-9dff-77cc88e9fed0"
      },
      "outputs": [
        {
          "name": "stdout",
          "output_type": "stream",
          "text": [
            "+---------------+------------------+----------+----------+\n",
            "|Actor          |MeanRanking       |MaxRanking|MinRanking|\n",
            "+---------------+------------------+----------+----------+\n",
            "|BoséMiguel     |68.0              |68        |68        |\n",
            "|CottenJoseph   |58.0              |74        |32        |\n",
            "|BrownTom       |77.0              |77        |77        |\n",
            "|DillonMatt     |7.5               |11        |4         |\n",
            "|KeatonMichael  |59.0              |59        |59        |\n",
            "|WillisBruce    |48.0              |76        |7         |\n",
            "|LancasterBurt  |40.083333333333336|84        |0         |\n",
            "|RomeroCesar    |78.0              |78        |78        |\n",
            "|JourdanLouis   |70.0              |70        |70        |\n",
            "|ModineMatthew  |8.0               |8         |8         |\n",
            "|UrichRobert    |64.0              |64        |64        |\n",
            "|JaglomHenry    |88.0              |88        |88        |\n",
            "|DavisGuy       |72.0              |72        |72        |\n",
            "|BridgesBeau    |64.0              |64        |64        |\n",
            "|KattWilliam    |26.0              |26        |26        |\n",
            "|BakulaScott    |60.0              |60        |60        |\n",
            "|EnglundRobert  |41.0              |41        |41        |\n",
            "|PriceMarc      |47.0              |47        |47        |\n",
            "|DoranJohnny    |42.0              |42        |42        |\n",
            "|CapolicchioLino|42.0              |42        |42        |\n",
            "+---------------+------------------+----------+----------+\n",
            "only showing top 20 rows\n",
            "\n"
          ]
        }
      ],
      "source": [
        "rdd10= movies_df.groupBy(\"Actor\").agg(avg(\"Popularity\").alias(\"MeanRanking\"),\n",
        "                                                max(\"Popularity\").alias(\"MaxRanking\"),\n",
        "                                                min(\"Popularity\").alias(\"MinRanking\"))\n",
        "rdd10.show(truncate=False)"
      ]
    },
    {
      "cell_type": "markdown",
      "metadata": {},
      "source": [
        "Question 11"
      ]
    },
    {
      "cell_type": "code",
      "execution_count": 29,
      "metadata": {
        "colab": {
          "base_uri": "https://localhost:8080/"
        },
        "id": "zzGkds1rmtYF",
        "outputId": "397bb689-0968-4c97-8743-1c07cb165cab"
      },
      "outputs": [
        {
          "name": "stdout",
          "output_type": "stream",
          "text": [
            "+------+-----------+\n",
            "|Decade|MoviesCount|\n",
            "+------+-----------+\n",
            "|1990  |237        |\n",
            "|1930  |21         |\n",
            "|1950  |65         |\n",
            "|1960  |207        |\n",
            "|1970  |193        |\n",
            "|1980  |499        |\n",
            "|1940  |53         |\n",
            "+------+-----------+\n",
            "\n"
          ]
        }
      ],
      "source": [
        "rdd11= movies_df.withColumn(\"Decade\", ((col(\"Year\") - 1960) / 10).cast(\"int\") * 10 + 1960)\n",
        "rdd11 = movies_df.groupBy(\"Decade\").agg(count(\"*\").alias(\"MoviesCount\"))\n",
        "rdd11.show(truncate=False)\n"
      ]
    },
    {
      "cell_type": "markdown",
      "metadata": {},
      "source": [
        "Question 12"
      ]
    },
    {
      "cell_type": "code",
      "execution_count": 23,
      "metadata": {
        "colab": {
          "base_uri": "https://localhost:8080/"
        },
        "id": "RRPcZo8sm1jG",
        "outputId": "79b5366d-57ed-4da5-da2e-ff67a587978a"
      },
      "outputs": [
        {
          "name": "stdout",
          "output_type": "stream",
          "text": [
            "+----+-----------+\n",
            "|Year|MoviesCount|\n",
            "+----+-----------+\n",
            "|1959|7          |\n",
            "|1990|78         |\n",
            "|1975|17         |\n",
            "|1977|26         |\n",
            "|1924|2          |\n",
            "|1974|19         |\n",
            "|1927|3          |\n",
            "|1955|17         |\n",
            "|1978|17         |\n",
            "|1925|1          |\n",
            "|1961|11         |\n",
            "|1942|4          |\n",
            "|1944|2          |\n",
            "|1939|8          |\n",
            "|1952|7          |\n",
            "|1956|12         |\n",
            "|1934|2          |\n",
            "|1988|84         |\n",
            "|1997|1          |\n",
            "|1968|17         |\n",
            "+----+-----------+\n",
            "only showing top 20 rows\n",
            "\n"
          ]
        }
      ],
      "source": [
        "rdd12 = movies_df.groupBy(\"Year\").agg(count(\"*\").alias(\"MoviesCount\"))\n",
        "rdd12.show(truncate=False)"
      ]
    },
    {
      "cell_type": "markdown",
      "metadata": {},
      "source": [
        "Question 13"
      ]
    },
    {
      "cell_type": "code",
      "execution_count": 24,
      "metadata": {
        "colab": {
          "base_uri": "https://localhost:8080/"
        },
        "id": "3uZoFvtTm8Ki",
        "outputId": "8e63f417-75cd-418f-b91d-753b3dff1d6b"
      },
      "outputs": [
        {
          "name": "stdout",
          "output_type": "stream",
          "text": [
            "+----+---------------+-----------+\n",
            "|Year|Genre          |MoviesCount|\n",
            "+----+---------------+-----------+\n",
            "|1989|Action         |9          |\n",
            "|1988|Comedy         |10         |\n",
            "|1966|Drama          |5          |\n",
            "|1985|Comedy         |4          |\n",
            "|1957|Western        |1          |\n",
            "|1928|Drama          |1          |\n",
            "|1970|Western        |1          |\n",
            "|1975|Drama          |4          |\n",
            "|1969|Action         |1          |\n",
            "|1940|Action         |1          |\n",
            "|1939|Western        |1          |\n",
            "|1987|Comedy         |12         |\n",
            "|1982|Science Fiction|1          |\n",
            "|1951|War            |1          |\n",
            "|1965|Music          |1          |\n",
            "|1939|Comedy         |1          |\n",
            "|1964|Music          |1          |\n",
            "|1987|War            |1          |\n",
            "|1966|Mystery        |2          |\n",
            "|1946|Mystery        |1          |\n",
            "+----+---------------+-----------+\n",
            "only showing top 20 rows\n",
            "\n"
          ]
        }
      ],
      "source": [
        "movies_df_filtered = movies_df.filter(col(\"Length\") > 100)\n",
        "rdd13 = movies_df_filtered.groupBy(\"Year\", \"Genre\").agg(count(\"*\").alias(\"MoviesCount\"))\n",
        "rdd13.show(truncate=False)"
      ]
    },
    {
      "cell_type": "markdown",
      "metadata": {},
      "source": [
        "Question 14"
      ]
    },
    {
      "cell_type": "code",
      "execution_count": 25,
      "metadata": {
        "colab": {
          "base_uri": "https://localhost:8080/"
        },
        "id": "xachI5F0nDvN",
        "outputId": "23ca14ad-fe99-4425-bcd8-d44b21116831"
      },
      "outputs": [
        {
          "name": "stdout",
          "output_type": "stream",
          "text": [
            "+----+------+-----------------------------------+---------------+---------------------+-----------------+-------------------+----------+------+-------------------+------+\n",
            "|Year|Length|Title                              |Genre          |Actor                |Actress          |Director           |Popularity|Awards|Image              |Decade|\n",
            "+----+------+-----------------------------------+---------------+---------------------+-----------------+-------------------+----------+------+-------------------+------+\n",
            "|1968|139   |2001: A Space Odyssey              |Science Fiction|DulleaKeir           |TyzackMargaret   |KubrickStanley     |83        |No    |NicholasCage.png   |1960  |\n",
            "|1982|92    |48 Hrs.                            |Action         |NolteNick            |O'TooleAnnette   |HillWalter         |67        |No    |NicholasCage.png   |1980  |\n",
            "|1963|138   |8 1/2                              |Drama          |MastroianniMarcello  |CardinaleClaudia |FelliniFederico    |80        |Yes   |NicholasCage.png   |1960  |\n",
            "|1966|95    |A Big Hand for the Little Lady     |Comedy         |FondaHenry           |WoodwardJoanne   |CookFielder        |12        |No    |NicholasCage.png   |1960  |\n",
            "|1962|105   |A Child Is Waiting                 |Drama          |LancasterBurt        |GarlandJudy      |CassavetesJohn     |60        |No    |burtLancaster.png  |1960  |\n",
            "|1985|118   |A Chorus LineThe Movie             |Music          |DouglasMichael       |LandersAudrey    |AttenboroughRichard|71        |No    |NicholasCage.png   |1980  |\n",
            "|1967|100   |A Coeur Joie(Head Over Heels)      |Action         |TerzieffLaurent      |BardotBrigitte   |BourguignonSerge   |54        |No    |brigitteBardot.png |1960  |\n",
            "|1988|122   |A Cry in the Dark                  |Drama          |NeillSam             |StreepMeryl      |SchepisiFred       |67        |No    |merylStreep.png    |1980  |\n",
            "|1989|97    |A Dry White Season                 |Drama          |SutherlandDonald     |SarandonSusan    |PalcyEuzhan        |71        |No    |NicholasCage.png   |1980  |\n",
            "|1966|104   |A Fine Madness                     |Comedy         |ConnerySean          |WoodwardJoanne   |KershnerIrvin      |6         |No    |seanConnery.png    |1960  |\n",
            "|1988|108   |A Fish Called Wanda                |Comedy         |CleeseJohn           |CurtisJamie Lee  |CrichtonCharles    |7         |Yes   |NicholasCage.png   |1980  |\n",
            "|1964|102   |A Fistful of Dollars               |Westerns       |EastwoodClint        |VolonteGian Maria|LeoneSergio        |61        |No    |clintEastwood.png  |1960  |\n",
            "|1943|NULL  |A Guy Named Joe                    |Drama          |TracySpencer         |DunneIrene       |FlemingVictor      |42        |No    |spencerTracy.png   |1940  |\n",
            "|1954|96    |A Lesson in Love                   |Comedy         |BjörnstrandGunnar    |DahlbeckEva      |BergmanIngmar      |48        |No    |Bergman.png        |1950  |\n",
            "|1977|110   |A Little Night Music               |Music          |CariouLen            |TaylorElizabeth  |PrinceHarold       |61        |No    |elizabethTaylor.png|1970  |\n",
            "|1966|103   |A Man & a Woman                    |Drama          |TrintignantJean-Louis|AimeeAnouk       |LelouchClaude      |46        |Yes   |NicholasCage.png   |1960  |\n",
            "|1986|112   |A Man & a Woman: Twenty Years Later|Drama          |TrintignantJean-Louis|AimeeAnouk       |LelouchClaude      |49        |No    |NicholasCage.png   |1980  |\n",
            "|1966|120   |A Man for All Seasons              |Drama          |ShawRobert           |HillerWendy      |ZinnemannFred      |20        |Yes   |NicholasCage.png   |1960  |\n",
            "|1976|97    |A Matter of Time                   |Drama          |BoyerCharles         |MinnelliLiza     |MinnelliVincente   |70        |No    |NicholasCage.png   |1970  |\n",
            "|1971|102   |A New Leaf                         |Comedy         |MatthauWalter        |ArrickRose       |MayElaine          |83        |No    |NicholasCage.png   |1970  |\n",
            "+----+------+-----------------------------------+---------------+---------------------+-----------------+-------------------+----------+------+-------------------+------+\n",
            "only showing top 20 rows\n",
            "\n"
          ]
        }
      ],
      "source": [
        "rdd14 = movies_df.filter(col(\"Year\") < 1990) \\\n",
        "    .orderBy(col(\"Title\"))\n",
        "rdd14.show(truncate=False)"
      ]
    },
    {
      "cell_type": "markdown",
      "metadata": {},
      "source": [
        "Question 15"
      ]
    },
    {
      "cell_type": "code",
      "execution_count": 26,
      "metadata": {
        "colab": {
          "base_uri": "https://localhost:8080/"
        },
        "id": "I1AZHhkNnLoU",
        "outputId": "64cb4bf8-4821-45fe-b3fe-2adebd73b326"
      },
      "outputs": [
        {
          "name": "stdout",
          "output_type": "stream",
          "text": [
            "+----+------+-----+-----+-----+-------+--------+----------+------+-----+------+\n",
            "|Year|Length|Title|Genre|Actor|Actress|Director|Popularity|Awards|Image|Decade|\n",
            "+----+------+-----+-----+-----+-------+--------+----------+------+-----+------+\n",
            "+----+------+-----+-----+-----+-------+--------+----------+------+-----+------+\n",
            "\n"
          ]
        }
      ],
      "source": [
        "rdd15 = movies_df.filter(col(\"Title\").rlike(\"[a-zA-Z]{51,}\"))\n",
        "rdd15.show(truncate=False)"
      ]
    }
  ],
  "metadata": {
    "colab": {
      "provenance": []
    },
    "kernelspec": {
      "display_name": "Python 3",
      "name": "python3"
    },
    "language_info": {
      "name": "python"
    }
  },
  "nbformat": 4,
  "nbformat_minor": 0
}
