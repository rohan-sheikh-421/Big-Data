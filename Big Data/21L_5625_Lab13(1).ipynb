{
  "nbformat": 4,
  "nbformat_minor": 0,
  "metadata": {
    "colab": {
      "provenance": []
    },
    "kernelspec": {
      "name": "python3",
      "display_name": "Python 3"
    },
    "language_info": {
      "name": "python"
    }
  },
  "cells": [
    {
      "cell_type": "code",
      "execution_count": 1,
      "metadata": {
        "colab": {
          "base_uri": "https://localhost:8080/"
        },
        "id": "uKa-0jQmeMgH",
        "outputId": "0de352b0-2336-43d8-90be-5dda2cc7cb22"
      },
      "outputs": [
        {
          "output_type": "stream",
          "name": "stdout",
          "text": [
            "Collecting MRJob\n",
            "  Downloading mrjob-0.7.4-py2.py3-none-any.whl (439 kB)\n",
            "\u001b[2K     \u001b[90m━━━━━━━━━━━━━━━━━━━━━━━━━━━━━━━━━━━━━━━━\u001b[0m \u001b[32m439.6/439.6 kB\u001b[0m \u001b[31m6.3 MB/s\u001b[0m eta \u001b[36m0:00:00\u001b[0m\n",
            "\u001b[?25hRequirement already satisfied: PyYAML>=3.10 in /usr/local/lib/python3.10/dist-packages (from MRJob) (6.0.1)\n",
            "Installing collected packages: MRJob\n",
            "Successfully installed MRJob-0.7.4\n"
          ]
        }
      ],
      "source": [
        "!pip install MRJob"
      ]
    },
    {
      "cell_type": "code",
      "source": [
        "%%writefile data.txt\n",
        "log 1: Uid=1, Errors =,a, b, a, j, e, c, e, k ,j\n",
        "log 2: Uid=2, Errors =,a, d,\n",
        "log 3: Uid=1, Errors =,a, b, e,\n",
        "log 4: Uid=3, Errors =,a, a, a, a, a, c, b"
      ],
      "metadata": {
        "colab": {
          "base_uri": "https://localhost:8080/"
        },
        "id": "AWJS0ZPceYXt",
        "outputId": "50327c53-54ea-4186-ad58-d547522f7847"
      },
      "execution_count": 81,
      "outputs": [
        {
          "output_type": "stream",
          "name": "stdout",
          "text": [
            "Overwriting data.txt\n"
          ]
        }
      ]
    },
    {
      "cell_type": "code",
      "source": [
        "%%writefile Q1file.py\n",
        "\n",
        "from mrjob.job import MRJob\n",
        "\n",
        "class Q1(MRJob):\n",
        "\n",
        "    def mapper(self, _, line):\n",
        "        try:\n",
        "            parts = line.split('Uid=')\n",
        "            uid_part = parts[1].split(',')[0].strip()\n",
        "            key = f\"Uid={uid_part}\"\n",
        "\n",
        "            errors_part = parts[1].split('Errors =')[1]\n",
        "            errors = errors_part.split(',')\n",
        "            dic = {}\n",
        "            for error in errors:\n",
        "                error = error.strip()\n",
        "                if error:\n",
        "                    if error not in dic:\n",
        "                        dic[error] = 1\n",
        "                    else:\n",
        "                        dic[error] += 1\n",
        "\n",
        "            yield key, dic\n",
        "        except IndexError:\n",
        "            return\n",
        "\n",
        "    def reducer(self, key, values):\n",
        "        combined_dic = {}\n",
        "        for value_dic in values:\n",
        "            for error, count in value_dic.items():\n",
        "                if error not in combined_dic:\n",
        "                    combined_dic[error] = count\n",
        "                else:\n",
        "                    combined_dic[error] += count\n",
        "\n",
        "        if combined_dic:\n",
        "            max_count = max(combined_dic.values())\n",
        "            max_keys = [k for k, v in combined_dic.items() if v == max_count]\n",
        "            yield key, max_keys\n",
        "\n",
        "if __name__ == '__main__':\n",
        "    Q1.run()\n"
      ],
      "metadata": {
        "colab": {
          "base_uri": "https://localhost:8080/"
        },
        "id": "n6zbzCN8eySa",
        "outputId": "32fc5115-2748-47c5-c1be-f946272159ac"
      },
      "execution_count": 82,
      "outputs": [
        {
          "output_type": "stream",
          "name": "stdout",
          "text": [
            "Overwriting Q1file.py\n"
          ]
        }
      ]
    },
    {
      "cell_type": "code",
      "source": [
        "!python Q1file.py  data.txt"
      ],
      "metadata": {
        "colab": {
          "base_uri": "https://localhost:8080/"
        },
        "id": "DL5oCCfRfs95",
        "outputId": "d25ed65a-e7de-46f3-8f63-57089e850365"
      },
      "execution_count": 83,
      "outputs": [
        {
          "output_type": "stream",
          "name": "stdout",
          "text": [
            "No configs found; falling back on auto-configuration\n",
            "No configs specified for inline runner\n",
            "Creating temp directory /tmp/Q1file.root.20240517.175959.102631\n",
            "Running step 1 of 1...\n",
            "job output is in /tmp/Q1file.root.20240517.175959.102631/output\n",
            "Streaming final output from /tmp/Q1file.root.20240517.175959.102631/output...\n",
            "\"Uid=2\"\t[\"a\", \"d\"]\n",
            "\"Uid=3\"\t[\"a\"]\n",
            "\"Uid=1\"\t[\"a\", \"e\"]\n",
            "Removing temp directory /tmp/Q1file.root.20240517.175959.102631...\n"
          ]
        }
      ]
    },
    {
      "cell_type": "code",
      "source": [
        "!pip install pyspark"
      ],
      "metadata": {
        "colab": {
          "base_uri": "https://localhost:8080/"
        },
        "id": "7H5cqWWFkHUh",
        "outputId": "0726f518-1213-4d3a-9296-942cf3591a3f"
      },
      "execution_count": 32,
      "outputs": [
        {
          "output_type": "stream",
          "name": "stdout",
          "text": [
            "Collecting pyspark\n",
            "  Downloading pyspark-3.5.1.tar.gz (317.0 MB)\n",
            "\u001b[2K     \u001b[90m━━━━━━━━━━━━━━━━━━━━━━━━━━━━━━━━━━━━━━━━\u001b[0m \u001b[32m317.0/317.0 MB\u001b[0m \u001b[31m2.3 MB/s\u001b[0m eta \u001b[36m0:00:00\u001b[0m\n",
            "\u001b[?25h  Preparing metadata (setup.py) ... \u001b[?25l\u001b[?25hdone\n",
            "Requirement already satisfied: py4j==0.10.9.7 in /usr/local/lib/python3.10/dist-packages (from pyspark) (0.10.9.7)\n",
            "Building wheels for collected packages: pyspark\n",
            "  Building wheel for pyspark (setup.py) ... \u001b[?25l\u001b[?25hdone\n",
            "  Created wheel for pyspark: filename=pyspark-3.5.1-py2.py3-none-any.whl size=317488491 sha256=94991aff8f311b64c1c12020bb88b6f8b507429a53995f257fdcd972e64c01e7\n",
            "  Stored in directory: /root/.cache/pip/wheels/80/1d/60/2c256ed38dddce2fdd93be545214a63e02fbd8d74fb0b7f3a6\n",
            "Successfully built pyspark\n",
            "Installing collected packages: pyspark\n",
            "Successfully installed pyspark-3.5.1\n"
          ]
        }
      ]
    },
    {
      "cell_type": "code",
      "source": [
        "from pyspark import SparkContext,SparkConf\n",
        "conf=SparkConf().setAppName('A2').setMaster(\"local[*]\")\n",
        "sc=SparkContext.getOrCreate(conf=conf)"
      ],
      "metadata": {
        "id": "2K9yEPr5kbJC"
      },
      "execution_count": 36,
      "outputs": []
    },
    {
      "cell_type": "code",
      "source": [
        "%%writefile data2.txt\n",
        "log 1: Uid=1,Errors =a,b,a,j,e,c,e,k,j\n",
        "log 2: Uid=2,Errors =a,d\n",
        "log 3: Uid=1,Errors =a,b,e\n",
        "log 4: Uid=3,Errors =a,a,a,a,a,c,b"
      ],
      "metadata": {
        "colab": {
          "base_uri": "https://localhost:8080/"
        },
        "id": "31rffAgYti2L",
        "outputId": "59c22008-4d0e-455e-d1ba-a2653933ec82"
      },
      "execution_count": 107,
      "outputs": [
        {
          "output_type": "stream",
          "name": "stdout",
          "text": [
            "Overwriting data2.txt\n"
          ]
        }
      ]
    },
    {
      "cell_type": "code",
      "source": [
        "def count(line):\n",
        "  key=line[0]\n",
        "  valueslst=line[1]\n",
        "  dic={}\n",
        "  for x in valueslst:\n",
        "    if x not in dic:\n",
        "      dic[x]=1\n",
        "    else:\n",
        "      dic[x]+=1\n",
        "\n",
        "  max_count = max(dic.values())\n",
        "  max_keys = [k for k, v in dic.items() if v == max_count]\n",
        "  return (key, max_keys)\n",
        "\n",
        "\n",
        "rdd=sc.textFile('data2.txt')\n",
        "mapped_rdd=rdd.map(lambda x :((x[7:12]),(x[21::]).split(',')))\n",
        "\n",
        "\n",
        "grouped_rdd=mapped_rdd.reduceByKey(lambda x,y :x+y)\n",
        "max_rdd=grouped_rdd.map(count)\n",
        "for x in max_rdd.collect():\n",
        " print(x)\n"
      ],
      "metadata": {
        "colab": {
          "base_uri": "https://localhost:8080/"
        },
        "id": "oX7hJs3Bkmqd",
        "outputId": "2f23d927-a3ae-4118-94ab-2b604abb6d5e"
      },
      "execution_count": 108,
      "outputs": [
        {
          "output_type": "stream",
          "name": "stdout",
          "text": [
            "('Uid=2', ['a', 'd'])\n",
            "('Uid=1', ['a', 'e'])\n",
            "('Uid=3', ['a'])\n"
          ]
        }
      ]
    },
    {
      "cell_type": "code",
      "source": [
        "%%writefile data3.txt\n",
        "A->B C D\n",
        "B->A D\n",
        "C->A\n",
        "D->B C\n"
      ],
      "metadata": {
        "colab": {
          "base_uri": "https://localhost:8080/"
        },
        "id": "LCfWSyegvVhA",
        "outputId": "5687df07-0117-4d3f-f550-de5e4f9870c4"
      },
      "execution_count": 109,
      "outputs": [
        {
          "output_type": "stream",
          "name": "stdout",
          "text": [
            "Writing data3.txt\n"
          ]
        }
      ]
    },
    {
      "cell_type": "code",
      "source": [
        "dic={}\n",
        "def custom(line):\n",
        "    global dic\n",
        "    key = line[0]\n",
        "    value = line[1].split()  # Split the value string into a list\n",
        "    if key in dic.keys():\n",
        "        dic[key].extend(value)\n",
        "    else:\n",
        "        dic[key] = value\n",
        "\n",
        "\n",
        "\n",
        "\n",
        "\n",
        "def counter(line):\n",
        "  global count,dic\n",
        "  key=line[0]\n",
        "  value=line[1].split()\n",
        "  count=0\n",
        "  for reciver in value:\n",
        "    if key not in dic[reciver]:\n",
        "      count=1\n",
        "      return (\"Number of users who sent a message but didn't receive a reply:\",count)\n",
        "\n",
        "\n",
        "\n",
        "\n",
        "\n",
        "\n",
        "\n",
        "rdd=sc.textFile('data3.txt')\n",
        "mapped_rdd=rdd.map(lambda x :(x.split('->')))\n",
        "for x in mapped_rdd.collect():\n",
        "  custom(x)\n",
        "\n",
        "final_rdd=mapped_rdd.map(counter)\n",
        "final_rdd=final_rdd.filter(lambda x : x is not None)\n",
        "final_ans=final_rdd.reduceByKey(lambda x,y: x+y)\n",
        "final_ans.collect()"
      ],
      "metadata": {
        "colab": {
          "base_uri": "https://localhost:8080/"
        },
        "id": "57nX9msMwY60",
        "outputId": "cedf9518-8ccb-489e-ba1d-334f4c44a5c6"
      },
      "execution_count": 206,
      "outputs": [
        {
          "output_type": "execute_result",
          "data": {
            "text/plain": [
              "[(\"Number of users who sent a message but didn't receive a reply:\", 2)]"
            ]
          },
          "metadata": {},
          "execution_count": 206
        }
      ]
    },
    {
      "cell_type": "code",
      "source": [
        "rdd=sc.textFile('data3.txt')\n",
        "ans=rdd.map(lambda x :(x.split('->'))).count()\n",
        "\n",
        "print(ans)"
      ],
      "metadata": {
        "colab": {
          "base_uri": "https://localhost:8080/"
        },
        "id": "J7LhVjl9youm",
        "outputId": "25556bbc-379e-4e47-d8a4-409f24bf4686"
      },
      "execution_count": 210,
      "outputs": [
        {
          "output_type": "stream",
          "name": "stdout",
          "text": [
            "4\n"
          ]
        }
      ]
    },
    {
      "cell_type": "code",
      "source": [
        "rdd=sc.textFile('data3.txt')\n",
        "ans=rdd.map(lambda x :(x.split('->')))\n",
        "ans1=ans.map(lambda x :((len((x[0]+' '+x[1]).split()))))\n",
        "print(ans1.reduce(lambda x,y :x+y))"
      ],
      "metadata": {
        "colab": {
          "base_uri": "https://localhost:8080/"
        },
        "id": "DrgF2SopHVXl",
        "outputId": "41897511-0417-4764-c5de-1169228cef93"
      },
      "execution_count": 232,
      "outputs": [
        {
          "output_type": "stream",
          "name": "stdout",
          "text": [
            "12\n"
          ]
        }
      ]
    }
  ]
}