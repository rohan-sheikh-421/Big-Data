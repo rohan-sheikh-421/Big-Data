{
  "nbformat": 4,
  "nbformat_minor": 0,
  "metadata": {
    "colab": {
      "provenance": []
    },
    "kernelspec": {
      "name": "python3",
      "display_name": "Python 3"
    },
    "language_info": {
      "name": "python"
    }
  },
  "cells": [
    {
      "cell_type": "code",
      "execution_count": 1,
      "metadata": {
        "id": "T_0453R32NRJ"
      },
      "outputs": [],
      "source": [
        "import pandas as pd"
      ]
    },
    {
      "cell_type": "markdown",
      "source": [
        "Q1\n"
      ],
      "metadata": {
        "id": "5Wih7gh13box"
      }
    },
    {
      "cell_type": "code",
      "source": [
        "def reverse_string(s):\n",
        "\n",
        "    left, right = 0, len(s) - 1\n",
        "    while left < right:\n",
        "        s[left], s[right] = s[right], s[left]\n",
        "        left, right = left + 1, right - 1\n"
      ],
      "metadata": {
        "id": "dLp20KwB27TM"
      },
      "execution_count": 3,
      "outputs": []
    },
    {
      "cell_type": "code",
      "source": [
        "s1 = [\"h\",\"e\",\"l\",\"l\",\"o\"]\n",
        "reverse_string(s1)\n",
        "print(s1)\n",
        "\n",
        "s2 = [\"H\",\"a\",\"n\",\"n\",\"a\",\"h\"]\n",
        "reverse_string(s2)\n",
        "print(s2)\n"
      ],
      "metadata": {
        "colab": {
          "base_uri": "https://localhost:8080/"
        },
        "id": "BfLoSUTc3UwS",
        "outputId": "990a7b91-2ca1-4756-8a49-8bedf68e3604"
      },
      "execution_count": 4,
      "outputs": [
        {
          "output_type": "stream",
          "name": "stdout",
          "text": [
            "['o', 'l', 'l', 'e', 'h']\n",
            "['h', 'a', 'n', 'n', 'a', 'H']\n"
          ]
        }
      ]
    },
    {
      "cell_type": "markdown",
      "source": [
        "Q2"
      ],
      "metadata": {
        "id": "y0g8Qtrw3dii"
      }
    },
    {
      "cell_type": "code",
      "source": [
        "def is_palindrome(s):\n",
        "\n",
        "\n",
        "\n",
        "    s = ''.join(c for c in s if c.isalnum()).lower()\n",
        "\n",
        "    return s == s[::-1]\n"
      ],
      "metadata": {
        "id": "XIuWBG8s3Yth"
      },
      "execution_count": 5,
      "outputs": []
    },
    {
      "cell_type": "code",
      "source": [
        "s1 = \"A man, a plan, a canal: Panama\"\n",
        "print(is_palindrome(s1))\n",
        "\n",
        "s2 = \"race a car\"\n",
        "print(is_palindrome(s2))\n"
      ],
      "metadata": {
        "colab": {
          "base_uri": "https://localhost:8080/"
        },
        "id": "tadG5Xkn33pJ",
        "outputId": "a4c1adb9-4e0b-4cb4-cafc-73bf2511cc79"
      },
      "execution_count": 7,
      "outputs": [
        {
          "output_type": "stream",
          "name": "stdout",
          "text": [
            "True\n",
            "False\n"
          ]
        }
      ]
    },
    {
      "cell_type": "markdown",
      "source": [
        "Q3"
      ],
      "metadata": {
        "id": "OZd9A9j-4CZ3"
      }
    },
    {
      "cell_type": "code",
      "source": [
        "import math\n",
        "\n",
        "def sqrt(x: int) -> int:\n",
        "\n",
        "    if x == 0:\n",
        "        return 0\n",
        "    left, right = 1, x\n",
        "    while left <= right:\n",
        "        mid = (left + right) // 2\n",
        "        if mid * mid > x:\n",
        "            right = mid - 1\n",
        "        else:\n",
        "            left = mid + 1\n",
        "    return left - 1\n"
      ],
      "metadata": {
        "id": "7bJFJ_7g4DSu"
      },
      "execution_count": 8,
      "outputs": []
    },
    {
      "cell_type": "code",
      "source": [
        "x1 = 4\n",
        "print(sqrt(x1))\n",
        "\n",
        "x2 = 8\n",
        "print(sqrt(x2))\n"
      ],
      "metadata": {
        "colab": {
          "base_uri": "https://localhost:8080/"
        },
        "id": "9PriJWNJ4qtx",
        "outputId": "fa93f5ad-868f-4071-b495-779b93d7cc9e"
      },
      "execution_count": 9,
      "outputs": [
        {
          "output_type": "stream",
          "name": "stdout",
          "text": [
            "2\n",
            "2\n"
          ]
        }
      ]
    }
  ]
}