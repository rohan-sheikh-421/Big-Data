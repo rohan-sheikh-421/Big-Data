{
  "nbformat": 4,
  "nbformat_minor": 0,
  "metadata": {
    "colab": {
      "provenance": []
    },
    "kernelspec": {
      "name": "python3",
      "display_name": "Python 3"
    },
    "language_info": {
      "name": "python"
    }
  },
  "cells": [
    {
      "cell_type": "code",
      "source": [
        "pip install mrjob\n"
      ],
      "metadata": {
        "colab": {
          "base_uri": "https://localhost:8080/"
        },
        "id": "vkChHAiOLh9c",
        "outputId": "99e3f7c4-cc5c-475d-c651-898610831c51"
      },
      "execution_count": 1,
      "outputs": [
        {
          "output_type": "stream",
          "name": "stdout",
          "text": [
            "Collecting mrjob\n",
            "  Downloading mrjob-0.7.4-py2.py3-none-any.whl (439 kB)\n",
            "\u001b[?25l     \u001b[90m━━━━━━━━━━━━━━━━━━━━━━━━━━━━━━━━━━━━━━━━\u001b[0m \u001b[32m0.0/439.6 kB\u001b[0m \u001b[31m?\u001b[0m eta \u001b[36m-:--:--\u001b[0m\r\u001b[2K     \u001b[91m━━━━━━━━━━━━━━━━━━━━━━━━━\u001b[0m\u001b[90m╺\u001b[0m\u001b[90m━━━━━━━━━━━━━━\u001b[0m \u001b[32m276.5/439.6 kB\u001b[0m \u001b[31m8.0 MB/s\u001b[0m eta \u001b[36m0:00:01\u001b[0m\r\u001b[2K     \u001b[90m━━━━━━━━━━━━━━━━━━━━━━━━━━━━━━━━━━━━━━━━\u001b[0m \u001b[32m439.6/439.6 kB\u001b[0m \u001b[31m8.4 MB/s\u001b[0m eta \u001b[36m0:00:00\u001b[0m\n",
            "\u001b[?25hRequirement already satisfied: PyYAML>=3.10 in /usr/local/lib/python3.10/dist-packages (from mrjob) (6.0.1)\n",
            "Installing collected packages: mrjob\n",
            "Successfully installed mrjob-0.7.4\n"
          ]
        }
      ]
    },
    {
      "cell_type": "markdown",
      "source": [
        "**Practice Question**\n",
        "Q1"
      ],
      "metadata": {
        "id": "A3pVdTDuPrEe"
      }
    },
    {
      "cell_type": "code",
      "source": [
        "%%writefile wordcount.py\n",
        "from mrjob.job import MRJob\n",
        "\n",
        "class WordCount(MRJob):\n",
        "    def mapper(self, _, line):\n",
        "        # Split line into words\n",
        "        words = line.split()\n",
        "        for word in words:\n",
        "            yield word.lower(), 1\n",
        "\n",
        "    def reducer(self, word, counts):\n",
        "        yield word, sum(counts)\n",
        "\n",
        "if __name__ == '__main__':\n",
        "    WordCount.run()\n"
      ],
      "metadata": {
        "colab": {
          "base_uri": "https://localhost:8080/"
        },
        "id": "HnLOjEEnOUrq",
        "outputId": "5c338215-b114-48ed-e9e8-337e93354a8e"
      },
      "execution_count": 26,
      "outputs": [
        {
          "output_type": "stream",
          "name": "stdout",
          "text": [
            "Overwriting wordcount.py\n"
          ]
        }
      ]
    },
    {
      "cell_type": "code",
      "source": [
        "!python \"wordcount.py\" \"file.txt\""
      ],
      "metadata": {
        "colab": {
          "base_uri": "https://localhost:8080/"
        },
        "id": "JB5cb4EfMaTr",
        "outputId": "5bcb40a0-1c6d-4fd9-cf01-3655d569d3e0"
      },
      "execution_count": 27,
      "outputs": [
        {
          "output_type": "stream",
          "name": "stdout",
          "text": [
            "No configs found; falling back on auto-configuration\n",
            "No configs specified for inline runner\n",
            "Creating temp directory /tmp/wordcount.root.20240302.082911.404252\n",
            "Running step 1 of 1...\n",
            "job output is in /tmp/wordcount.root.20240302.082911.404252/output\n",
            "Streaming final output from /tmp/wordcount.root.20240302.082911.404252/output...\n",
            "\"s2\"\t1\n",
            "\"s2,\"\t2\n",
            "\"s3\"\t2\n",
            "\"s7,\"\t2\n",
            "\"ali\"\t1\n",
            "\"ali,\"\t1\n",
            "\"amina\"\t1\n",
            "\"fahad\"\t1\n",
            "\"s1\"\t1\n",
            "\"s1,\"\t4\n",
            "\"12-3-20,\"\t1\n",
            "\"14-04-22,\"\t1\n",
            "\"20-4-22\"\t3\n",
            "\"s9\"\t1\n",
            "\"sara\"\t1\n",
            "Removing temp directory /tmp/wordcount.root.20240302.082911.404252...\n"
          ]
        }
      ]
    },
    {
      "cell_type": "markdown",
      "source": [
        "**Q2**"
      ],
      "metadata": {
        "id": "qqAuM4z8RaK-"
      }
    },
    {
      "cell_type": "code",
      "source": [
        "%%writefile Alphacount.py\n",
        "from mrjob.job import MRJob\n",
        "\n",
        "class AlphabetCount(MRJob):\n",
        "    def mapper(self, _, line):\n",
        "        words = line.split()\n",
        "        for word in words:\n",
        "            yield word[0].lower(), 1\n",
        "\n",
        "    def reducer(self, alphabet, counts):\n",
        "        yield alphabet, sum(counts)\n",
        "\n",
        "if __name__ == '__main__':\n",
        "    AlphabetCount.run()"
      ],
      "metadata": {
        "colab": {
          "base_uri": "https://localhost:8080/"
        },
        "id": "HuBEN-UhRec-",
        "outputId": "dd0250f7-a391-4662-9ca2-4e0f24f31660"
      },
      "execution_count": 28,
      "outputs": [
        {
          "output_type": "stream",
          "name": "stdout",
          "text": [
            "Overwriting Alphacount.py\n"
          ]
        }
      ]
    },
    {
      "cell_type": "code",
      "source": [
        "!python \"Alphacount.py\" \"file.txt\""
      ],
      "metadata": {
        "colab": {
          "base_uri": "https://localhost:8080/"
        },
        "id": "zELViP6DRw9e",
        "outputId": "f71358b3-b977-499a-d95c-aa24a3626e70"
      },
      "execution_count": 29,
      "outputs": [
        {
          "output_type": "stream",
          "name": "stdout",
          "text": [
            "No configs found; falling back on auto-configuration\n",
            "No configs specified for inline runner\n",
            "Creating temp directory /tmp/Alphacount.root.20240302.082921.065610\n",
            "Running step 1 of 1...\n",
            "job output is in /tmp/Alphacount.root.20240302.082921.065610/output\n",
            "Streaming final output from /tmp/Alphacount.root.20240302.082921.065610/output...\n",
            "\"f\"\t1\n",
            "\"s\"\t14\n",
            "\"1\"\t2\n",
            "\"2\"\t3\n",
            "\"a\"\t3\n",
            "Removing temp directory /tmp/Alphacount.root.20240302.082921.065610...\n"
          ]
        }
      ]
    },
    {
      "cell_type": "markdown",
      "source": [
        "**Q3**"
      ],
      "metadata": {
        "id": "2mdMZpAJR4G2"
      }
    },
    {
      "cell_type": "code",
      "source": [
        "%%writefile wordlen.py\n",
        "from mrjob.job import MRJob\n",
        "\n",
        "class WordLengthFive(MRJob):\n",
        "    def mapper(self, _, line):\n",
        "        words = line.split()\n",
        "        for word in words:\n",
        "            if len(word) == 5:\n",
        "                yield word, 1\n",
        "\n",
        "    def reducer(self, word, counts):\n",
        "        yield word, sum(counts)\n",
        "\n",
        "if __name__ == '__main__':\n",
        "    WordLengthFive.run()"
      ],
      "metadata": {
        "colab": {
          "base_uri": "https://localhost:8080/"
        },
        "id": "9y4Tk4ccSBl-",
        "outputId": "d7807d25-fa0e-402f-eaa9-b524fabd1cec"
      },
      "execution_count": 30,
      "outputs": [
        {
          "output_type": "stream",
          "name": "stdout",
          "text": [
            "Overwriting wordlen.py\n"
          ]
        }
      ]
    },
    {
      "cell_type": "code",
      "source": [
        "!python \"wordlen.py\" \"file.txt\""
      ],
      "metadata": {
        "colab": {
          "base_uri": "https://localhost:8080/"
        },
        "id": "omkD5vBySP9b",
        "outputId": "ecffcbeb-ef9a-45d2-8793-f9c99b1b137a"
      },
      "execution_count": 31,
      "outputs": [
        {
          "output_type": "stream",
          "name": "stdout",
          "text": [
            "No configs found; falling back on auto-configuration\n",
            "No configs specified for inline runner\n",
            "Creating temp directory /tmp/wordlen.root.20240302.082930.759783\n",
            "Running step 1 of 1...\n",
            "job output is in /tmp/wordlen.root.20240302.082930.759783/output\n",
            "Streaming final output from /tmp/wordlen.root.20240302.082930.759783/output...\n",
            "\"Fahad\"\t1\n",
            "\"Amina\"\t1\n",
            "Removing temp directory /tmp/wordlen.root.20240302.082930.759783...\n"
          ]
        }
      ]
    },
    {
      "cell_type": "markdown",
      "source": [
        "**Exercise Questions**"
      ],
      "metadata": {
        "id": "6EQ3mrqMP3sv"
      }
    },
    {
      "cell_type": "markdown",
      "source": [
        "**Q1**"
      ],
      "metadata": {
        "id": "_kM79EjIP9tv"
      }
    },
    {
      "cell_type": "code",
      "source": [],
      "metadata": {
        "id": "KCA8RQ9IQJcd"
      },
      "execution_count": null,
      "outputs": []
    }
  ]
}