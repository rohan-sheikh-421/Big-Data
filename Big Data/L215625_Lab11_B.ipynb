{
  "nbformat": 4,
  "nbformat_minor": 0,
  "metadata": {
    "colab": {
      "provenance": []
    },
    "kernelspec": {
      "name": "python3",
      "display_name": "Python 3"
    },
    "language_info": {
      "name": "python"
    }
  },
  "cells": [
    {
      "cell_type": "code",
      "source": [
        "import re\n",
        "\n",
        "# Load the dataset\n",
        "with open('lab11_dataset.txt', 'r') as file:\n",
        "    dataset = file.read().splitlines()\n",
        "\n",
        "# Mapper function\n",
        "def mapper_task1(line):\n",
        "    return re.sub(r'[^\\w\\s]', '', line).lower()\n",
        "\n",
        "# Map\n",
        "dataset_task1 = list(map(mapper_task1, dataset))\n",
        "\n",
        "# output\n",
        "print('\\n'.join(dataset_task1))"
      ],
      "metadata": {
        "colab": {
          "base_uri": "https://localhost:8080/"
        },
        "id": "ZRMKt4PxprMZ",
        "outputId": "1560414d-4341-4950-89a0-7d1b2758e068"
      },
      "execution_count": 4,
      "outputs": [
        {
          "output_type": "stream",
          "name": "stdout",
          "text": [
            "ali writes on thursday\n",
            "usman writes on wednessday\n",
            "bilal writes on friday\n",
            "ali writes on thursday\n",
            "usman writes on wednessday\n",
            "bilal writes on friday\n",
            "ali writes  on thursday\n",
            "kakamon writes on wednessday\n",
            "bilal writes on friday\n",
            "ali writes on thursday\n",
            "usman writes on wednessday\n",
            "bilal writes on friday\n",
            "ali writes  on thursday\n",
            "usman writes on wednessday\n",
            "bilal writes on friday\n",
            "ali writes on thursday\n",
            "khuzaima writes on wednessday\n",
            "bilal writes on friday\n",
            "ali writes  on thursday\n",
            "usman writes on wednessday\n",
            "bilal writes on friday\n",
            "ali writes on thursday\n",
            "usman writes on wednessday\n",
            "mia writes on friday\n",
            "ali writes  on thursday\n",
            "usman writes on wednessday\n",
            "ik writes on sunday\n",
            "ik writes on sunday\n",
            "ik writes on sunday\n",
            "ik writes on sunday\n",
            "lalu writes on friday\n",
            "ali writes  on thursday\n",
            "usman writes on monday\n",
            "bilal writes on friday\n",
            "ali writes on tuesday\n",
            "ali writes  on thursday\n",
            "usman writes on wednessday\n",
            "bilal writes on friday\n",
            "iffat writes on thursday\n",
            "usman writes on wednessday\n",
            "mia writes on friday\n",
            "ali writes  on thursday\n",
            "usman writes on wednessday\n",
            "lalu writes on friday\n",
            "ali writes  on thursday\n",
            "usman writes on monday\n",
            "buzdsar writes on friday\n",
            "ik writes on sunday\n",
            "ik writes on sunday\n",
            "ik writes on sunday\n",
            "ik writes on sunday\n",
            "ik writes on sunday\n",
            "ik writes on sunday\n",
            "ik writes on friday\n",
            "ik writes on sunday\n",
            "ik writes on sunday\n",
            "bilal writes on monday\n",
            "bilal writes on friday\n",
            "iffat writes on friday\n",
            "maryn writes on saturday\n",
            "mia writes on friday\n",
            "ali writes  on thursday\n",
            "usman writes on tuesday\n"
          ]
        }
      ]
    },
    {
      "cell_type": "code",
      "source": [
        "from collections import defaultdict\n",
        "\n",
        "# Mapper function\n",
        "def mapper_task2(line):\n",
        "    if 'writes' in line:\n",
        "        person = line.split('writes')[0].strip()\n",
        "        return (person, 1)\n",
        "    return None\n",
        "\n",
        "# Map\n",
        "mapped_task2 = filter(None, map(mapper_task2, dataset))\n",
        "person_counts = defaultdict(list)\n",
        "for person, count in mapped_task2:\n",
        "    person_counts[person].append(count)\n",
        "\n",
        "# Reduce\n",
        "result_task2 = {person: sum(counts) for person, counts in person_counts.items()}\n",
        "\n",
        "#  output\n",
        "print(result_task2)"
      ],
      "metadata": {
        "colab": {
          "base_uri": "https://localhost:8080/"
        },
        "id": "N8qQKMJLpvym",
        "outputId": "42d905fd-4668-4dc7-f495-d036abb5ce18"
      },
      "execution_count": 5,
      "outputs": [
        {
          "output_type": "stream",
          "name": "stdout",
          "text": [
            "{'Ali': 6, 'usman': 9, 'bil-al': 1, 'us.man': 4, 'bilal': 3, 'Ali!': 9, 'Kakamon': 1, 'bilal.': 6, 'Khuzaima': 1, 'Mia': 3, 'IK': 13, 'Lalu.': 2, 'iffat': 2, 'Buzdsar': 1, 'Bilal': 1, 'Maryn': 1}\n"
          ]
        }
      ]
    },
    {
      "cell_type": "code",
      "source": [
        "# Mapper function\n",
        "def mapper_task3(line):\n",
        "    if 'writes' in line:\n",
        "        person = line.split('writes')[0].strip()\n",
        "        day = line.split('on')[1].strip()\n",
        "        return (person, day)\n",
        "    return None\n",
        "\n",
        "# Map\n",
        "mapped_task3 = filter(None, map(mapper_task3, dataset))\n",
        "person_days = defaultdict(list)\n",
        "for person, day in mapped_task3:\n",
        "    person_days[person].append(day)\n",
        "\n",
        "# Reduce\n",
        "result_task3 = {person: len(set(days)) for person, days in person_days.items()}\n",
        "\n",
        "#  output\n",
        "print(result_task3)"
      ],
      "metadata": {
        "colab": {
          "base_uri": "https://localhost:8080/"
        },
        "id": "HuBMlmakqRWQ",
        "outputId": "5adc05c9-0d52-49ca-a70f-5dc9b70d872e"
      },
      "execution_count": 6,
      "outputs": [
        {
          "output_type": "stream",
          "name": "stdout",
          "text": [
            "{'Ali': 2, 'usman': 3, 'bil-al': 1, 'us.man': 1, 'bilal': 1, 'Ali!': 1, 'Kakamon': 1, 'bilal.': 1, 'Khuzaima': 1, 'Mia': 1, 'IK': 2, 'Lalu.': 1, 'iffat': 2, 'Buzdsar': 1, 'Bilal': 1, 'Maryn': 1}\n"
          ]
        }
      ]
    },
    {
      "cell_type": "code",
      "source": [
        "# Combine results\n",
        "result_task4 = []\n",
        "for person in result_task2.keys():\n",
        "    for day in person_days[person]:\n",
        "        result_task4.append(f'{person} <{day} {result_task3[person]} {result_task2[person]}>')\n",
        "\n",
        "# Sort the result\n",
        "result_task4.sort()\n",
        "\n",
        "# output\n",
        "print('\\n'.join(result_task4))"
      ],
      "metadata": {
        "colab": {
          "base_uri": "https://localhost:8080/"
        },
        "id": "pU6klrS3qTsH",
        "outputId": "ad40c753-0e33-4162-92b9-def90bcfbb00"
      },
      "execution_count": 7,
      "outputs": [
        {
          "output_type": "stream",
          "name": "stdout",
          "text": [
            "Ali <Tuesday 2 6>\n",
            "Ali <thursday 2 6>\n",
            "Ali <thursday 2 6>\n",
            "Ali <thursday 2 6>\n",
            "Ali <thursday 2 6>\n",
            "Ali <thursday 2 6>\n",
            "Ali! <thursday 1 9>\n",
            "Ali! <thursday 1 9>\n",
            "Ali! <thursday 1 9>\n",
            "Ali! <thursday 1 9>\n",
            "Ali! <thursday 1 9>\n",
            "Ali! <thursday 1 9>\n",
            "Ali! <thursday 1 9>\n",
            "Ali! <thursday 1 9>\n",
            "Ali! <thursday 1 9>\n",
            "Bilal <M 1 1>\n",
            "Buzdsar <friday 1 1>\n",
            "IK <Friday 2 13>\n",
            "IK <Sunday 2 13>\n",
            "IK <Sunday 2 13>\n",
            "IK <Sunday 2 13>\n",
            "IK <Sunday 2 13>\n",
            "IK <Sunday 2 13>\n",
            "IK <Sunday 2 13>\n",
            "IK <Sunday 2 13>\n",
            "IK <Sunday 2 13>\n",
            "IK <Sunday 2 13>\n",
            "IK <Sunday 2 13>\n",
            "IK <Sunday 2 13>\n",
            "IK <Sunday 2 13>\n",
            "Kakamon <writes 1 1>\n",
            "Khuzaima <wednessday 1 1>\n",
            "Lalu. <friday 1 2>\n",
            "Lalu. <friday 1 2>\n",
            "Maryn <Saturday 1 1>\n",
            "Mia <friday 1 3>\n",
            "Mia <friday 1 3>\n",
            "Mia <friday 1 3>\n",
            "bil-al <friday 1 1>\n",
            "bilal <friday 1 3>\n",
            "bilal <friday 1 3>\n",
            "bilal <friday 1 3>\n",
            "bilal. <friday 1 6>\n",
            "bilal. <friday 1 6>\n",
            "bilal. <friday 1 6>\n",
            "bilal. <friday 1 6>\n",
            "bilal. <friday 1 6>\n",
            "bilal. <friday 1 6>\n",
            "iffat <Friday 2 2>\n",
            "iffat <thursday 2 2>\n",
            "us.man <wednessday 1 4>\n",
            "us.man <wednessday 1 4>\n",
            "us.man <wednessday 1 4>\n",
            "us.man <wednessday 1 4>\n",
            "usman <M 3 9>\n",
            "usman <M 3 9>\n",
            "usman <Tuesday 3 9>\n",
            "usman <wednessday 3 9>\n",
            "usman <wednessday 3 9>\n",
            "usman <wednessday 3 9>\n",
            "usman <wednessday 3 9>\n",
            "usman <wednessday 3 9>\n",
            "usman <wednessday 3 9>\n"
          ]
        }
      ]
    },
    {
      "cell_type": "code",
      "source": [],
      "metadata": {
        "id": "lTG7K8puqV_n"
      },
      "execution_count": null,
      "outputs": []
    }
  ]
}